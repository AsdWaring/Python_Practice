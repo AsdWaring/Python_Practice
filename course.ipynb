{
 "cells": [
  {
   "cell_type": "code",
   "execution_count": 8,
   "metadata": {},
   "outputs": [
    {
     "data": {
      "text/html": [
       "<div>\n",
       "<style scoped>\n",
       "    .dataframe tbody tr th:only-of-type {\n",
       "        vertical-align: middle;\n",
       "    }\n",
       "\n",
       "    .dataframe tbody tr th {\n",
       "        vertical-align: top;\n",
       "    }\n",
       "\n",
       "    .dataframe thead th {\n",
       "        text-align: right;\n",
       "    }\n",
       "</style>\n",
       "<table border=\"1\" class=\"dataframe\">\n",
       "  <thead>\n",
       "    <tr style=\"text-align: right;\">\n",
       "      <th></th>\n",
       "      <th>age</th>\n",
       "      <th>bmi</th>\n",
       "      <th>km5_time_seconds</th>\n",
       "      <th>km10_time_seconds</th>\n",
       "      <th>km10_time_minutes</th>\n",
       "      <th>sex</th>\n",
       "    </tr>\n",
       "  </thead>\n",
       "  <tbody>\n",
       "    <tr>\n",
       "      <th>0</th>\n",
       "      <td>16.0</td>\n",
       "      <td>18.330755</td>\n",
       "      <td>945.0</td>\n",
       "      <td>2040.0</td>\n",
       "      <td>34.000000</td>\n",
       "      <td>male</td>\n",
       "    </tr>\n",
       "    <tr>\n",
       "      <th>1</th>\n",
       "      <td>16.0</td>\n",
       "      <td>19.135529</td>\n",
       "      <td>1110.0</td>\n",
       "      <td>2365.0</td>\n",
       "      <td>39.416667</td>\n",
       "      <td>male</td>\n",
       "    </tr>\n",
       "    <tr>\n",
       "      <th>2</th>\n",
       "      <td>16.0</td>\n",
       "      <td>19.476656</td>\n",
       "      <td>985.0</td>\n",
       "      <td>2055.0</td>\n",
       "      <td>34.250000</td>\n",
       "      <td>male</td>\n",
       "    </tr>\n",
       "    <tr>\n",
       "      <th>3</th>\n",
       "      <td>16.0</td>\n",
       "      <td>18.330755</td>\n",
       "      <td>1146.0</td>\n",
       "      <td>NaN</td>\n",
       "      <td>NaN</td>\n",
       "      <td>male</td>\n",
       "    </tr>\n",
       "    <tr>\n",
       "      <th>4</th>\n",
       "      <td>16.0</td>\n",
       "      <td>22.263451</td>\n",
       "      <td>NaN</td>\n",
       "      <td>2459.0</td>\n",
       "      <td>40.983333</td>\n",
       "      <td>male</td>\n",
       "    </tr>\n",
       "    <tr>\n",
       "      <th>...</th>\n",
       "      <td>...</td>\n",
       "      <td>...</td>\n",
       "      <td>...</td>\n",
       "      <td>...</td>\n",
       "      <td>...</td>\n",
       "      <td>...</td>\n",
       "    </tr>\n",
       "    <tr>\n",
       "      <th>1828</th>\n",
       "      <td>60.0</td>\n",
       "      <td>19.531250</td>\n",
       "      <td>1665.0</td>\n",
       "      <td>3550.0</td>\n",
       "      <td>59.166667</td>\n",
       "      <td>female</td>\n",
       "    </tr>\n",
       "    <tr>\n",
       "      <th>1829</th>\n",
       "      <td>62.0</td>\n",
       "      <td>27.363125</td>\n",
       "      <td>1956.0</td>\n",
       "      <td>4014.0</td>\n",
       "      <td>66.900000</td>\n",
       "      <td>female</td>\n",
       "    </tr>\n",
       "    <tr>\n",
       "      <th>1830</th>\n",
       "      <td>62.0</td>\n",
       "      <td>24.431360</td>\n",
       "      <td>2280.0</td>\n",
       "      <td>NaN</td>\n",
       "      <td>NaN</td>\n",
       "      <td>female</td>\n",
       "    </tr>\n",
       "    <tr>\n",
       "      <th>1831</th>\n",
       "      <td>63.0</td>\n",
       "      <td>21.036816</td>\n",
       "      <td>NaN</td>\n",
       "      <td>4140.0</td>\n",
       "      <td>69.000000</td>\n",
       "      <td>female</td>\n",
       "    </tr>\n",
       "    <tr>\n",
       "      <th>1832</th>\n",
       "      <td>67.0</td>\n",
       "      <td>23.218958</td>\n",
       "      <td>1262.0</td>\n",
       "      <td>NaN</td>\n",
       "      <td>NaN</td>\n",
       "      <td>female</td>\n",
       "    </tr>\n",
       "  </tbody>\n",
       "</table>\n",
       "<p>1833 rows × 6 columns</p>\n",
       "</div>"
      ],
      "text/plain": [
       "       age        bmi  km5_time_seconds  km10_time_seconds  km10_time_minutes  \\\n",
       "0     16.0  18.330755             945.0             2040.0          34.000000   \n",
       "1     16.0  19.135529            1110.0             2365.0          39.416667   \n",
       "2     16.0  19.476656             985.0             2055.0          34.250000   \n",
       "3     16.0  18.330755            1146.0                NaN                NaN   \n",
       "4     16.0  22.263451               NaN             2459.0          40.983333   \n",
       "...    ...        ...               ...                ...                ...   \n",
       "1828  60.0  19.531250            1665.0             3550.0          59.166667   \n",
       "1829  62.0  27.363125            1956.0             4014.0          66.900000   \n",
       "1830  62.0  24.431360            2280.0                NaN                NaN   \n",
       "1831  63.0  21.036816               NaN             4140.0          69.000000   \n",
       "1832  67.0  23.218958            1262.0                NaN                NaN   \n",
       "\n",
       "         sex  \n",
       "0       male  \n",
       "1       male  \n",
       "2       male  \n",
       "3       male  \n",
       "4       male  \n",
       "...      ...  \n",
       "1828  female  \n",
       "1829  female  \n",
       "1830  female  \n",
       "1831  female  \n",
       "1832  female  \n",
       "\n",
       "[1833 rows x 6 columns]"
      ]
     },
     "execution_count": 8,
     "metadata": {},
     "output_type": "execute_result"
    }
   ],
   "source": [
    "import pandas as pd\n",
    "marathon = pd.read_csv('/home/alysha/repos/Python_Practice/marathon_small.csv')\n",
    "marathon\n"
   ]
  },
  {
   "cell_type": "markdown",
   "metadata": {},
   "source": [
    "Hurrah!"
   ]
  },
  {
   "cell_type": "code",
   "execution_count": 9,
   "metadata": {},
   "outputs": [
    {
     "data": {
      "text/plain": [
       "(1833, 6)"
      ]
     },
     "execution_count": 9,
     "metadata": {},
     "output_type": "execute_result"
    }
   ],
   "source": [
    "marathon.shape"
   ]
  },
  {
   "cell_type": "code",
   "execution_count": null,
   "metadata": {},
   "outputs": [],
   "source": []
  }
 ],
 "metadata": {
  "kernelspec": {
   "display_name": "Python 3.10.4 ('myenv')",
   "language": "python",
   "name": "python3"
  },
  "language_info": {
   "codemirror_mode": {
    "name": "ipython",
    "version": 3
   },
   "file_extension": ".py",
   "mimetype": "text/x-python",
   "name": "python",
   "nbconvert_exporter": "python",
   "pygments_lexer": "ipython3",
   "version": "3.10.4"
  },
  "orig_nbformat": 4,
  "vscode": {
   "interpreter": {
    "hash": "7117c6b551576cae856bbb5c7ffe44932625492f249625d6f56dde05f560179b"
   }
  }
 },
 "nbformat": 4,
 "nbformat_minor": 2
}
