{
 "cells": [
  {
   "cell_type": "markdown",
   "metadata": {},
   "source": [
    "Explain the Dry Principal\n",
    "Write conditional statements with if, elif, and else to run\n",
    "different code depending on input\n",
    "Write for loops to repeatedly run code\n",
    "describe the expected outcomes of code with nested loops\n",
    "define and use a function that accepts paremeters and returns a value"
   ]
  },
  {
   "cell_type": "code",
   "execution_count": 1,
   "metadata": {},
   "outputs": [
    {
     "name": "stdout",
     "output_type": "stream",
     "text": [
      "I love cats too!\n",
      "I WANT TO CATCH THEM ALL!\n"
     ]
    }
   ],
   "source": [
    "fave_pokemon = 'meowth'\n",
    "\n",
    "if fave_pokemon.lower() == 'pikatchu':\n",
    "    print('You are boring')\n",
    "elif fave_pokemon.lower() == 'meowth' :\n",
    "    print('I love cats too!')\n",
    "else: \n",
    "    print('Good choice!')\n",
    "\n",
    "print('I WANT TO CATCH THEM ALL!')\n"
   ]
  },
  {
   "cell_type": "code",
   "execution_count": 7,
   "metadata": {},
   "outputs": [
    {
     "data": {
      "text/plain": [
       "'Thats how old I am!'"
      ]
     },
     "execution_count": 7,
     "metadata": {},
     "output_type": "execute_result"
    }
   ],
   "source": [
    "number = 33\n",
    "if number == 33:\n",
    "    new_variable = 'Thats how old I am!'\n",
    "elif number >10: \n",
    "    new_variable = 'Greater than 10!'\n",
    "elif number <10:\n",
    "    new_variable = 'LesS than 10!'\n",
    "new_variable"
   ]
  },
  {
   "cell_type": "code",
   "execution_count": 9,
   "metadata": {},
   "outputs": [
    {
     "data": {
      "text/plain": [
       "True"
      ]
     },
     "execution_count": 9,
     "metadata": {},
     "output_type": "execute_result"
    }
   ],
   "source": [
    "pokemon_list = ['geodude', 'dratini', 'bulbasaur', 'pidgy', 'electrode']\n",
    "\n",
    "'dratini' in pokemon_list"
   ]
  },
  {
   "cell_type": "markdown",
   "metadata": {},
   "source": [
    "DRY means - don't repeat yourself\n",
    "WET solutions - write everytime"
   ]
  },
  {
   "cell_type": "code",
   "execution_count": 12,
   "metadata": {},
   "outputs": [
    {
     "data": {
      "text/plain": [
       "[36, 4, 729]"
      ]
     },
     "execution_count": 12,
     "metadata": {},
     "output_type": "execute_result"
    }
   ],
   "source": [
    "numbers = [6, 2, 27]\n",
    "squared = list()\n",
    "for loop_var_name in numbers:\n",
    "    squared.append(loop_var_name ** 2)\n",
    "squared"
   ]
  },
  {
   "cell_type": "markdown",
   "metadata": {},
   "source": [
    "Got to range, dictionaries and comprehension."
   ]
  },
  {
   "cell_type": "code",
   "execution_count": null,
   "metadata": {},
   "outputs": [],
   "source": []
  }
 ],
 "metadata": {
  "kernelspec": {
   "display_name": "Python 3.10.4 ('myenv')",
   "language": "python",
   "name": "python3"
  },
  "language_info": {
   "codemirror_mode": {
    "name": "ipython",
    "version": 3
   },
   "file_extension": ".py",
   "mimetype": "text/x-python",
   "name": "python",
   "nbconvert_exporter": "python",
   "pygments_lexer": "ipython3",
   "version": "3.10.4"
  },
  "orig_nbformat": 4,
  "vscode": {
   "interpreter": {
    "hash": "7117c6b551576cae856bbb5c7ffe44932625492f249625d6f56dde05f560179b"
   }
  }
 },
 "nbformat": 4,
 "nbformat_minor": 2
}
